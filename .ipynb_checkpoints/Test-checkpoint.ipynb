{
 "cells": [
  {
   "cell_type": "code",
   "execution_count": 1,
   "metadata": {},
   "outputs": [],
   "source": [
    "import pandas as pd\n",
    "try:\n",
    "    from StringIO import StringIO\n",
    "except ImportError:\n",
    "    from io import StringIO\n",
    "import numpy as np"
   ]
  },
  {
   "cell_type": "code",
   "execution_count": 2,
   "metadata": {},
   "outputs": [],
   "source": [
    "mylist = []\n",
    "for chunk in pd.read_csv(r'nflscrapR-data/play_by_play_data/regular_season/reg_pbp_2018.csv', sep=',', chunksize=20000,low_memory=False):\n",
    "    mylist.append(chunk)\n",
    "p18 = pd.concat(mylist, axis = 0)\n",
    "del mylist"
   ]
  },
  {
   "cell_type": "code",
   "execution_count": 3,
   "metadata": {},
   "outputs": [],
   "source": [
    "#tackles\n",
    "#tacklescoring - https://imgur.com/Ig0eCsh\n",
    "#tacklepositions - LB, S, QB, RB, WR, TE, PK, PN\n",
    "#groupby players and their tackles, create column to determine points from tackles, join with roster data, filter by eligible positions, \n",
    "tacklepts18one = pd.DataFrame({'tackles' : p18.groupby( [ \"assist_tackle_1_player_id\"] ).size()}).reset_index()\n",
    "tacklepts18two = pd.DataFrame({'tackles' : p18.groupby( [ \"assist_tackle_2_player_id\"] ).size()}).reset_index()"
   ]
  },
  {
   "cell_type": "code",
   "execution_count": 4,
   "metadata": {},
   "outputs": [],
   "source": [
    "#gotta figure out how to merge them, something about the column names not being indexed properly\n",
    "tacklepts18 = pd.merge(tacklepts18one, tacklepts18two, left_on = 'assist_tackle_1_player_id', right_on = 'assist_tackle_2_player_id', how='left')"
   ]
  },
  {
   "cell_type": "code",
   "execution_count": 5,
   "metadata": {
    "scrolled": false
   },
   "outputs": [
    {
     "data": {
      "text/html": [
       "<div>\n",
       "<style scoped>\n",
       "    .dataframe tbody tr th:only-of-type {\n",
       "        vertical-align: middle;\n",
       "    }\n",
       "\n",
       "    .dataframe tbody tr th {\n",
       "        vertical-align: top;\n",
       "    }\n",
       "\n",
       "    .dataframe thead th {\n",
       "        text-align: right;\n",
       "    }\n",
       "</style>\n",
       "<table border=\"1\" class=\"dataframe\">\n",
       "  <thead>\n",
       "    <tr style=\"text-align: right;\">\n",
       "      <th></th>\n",
       "      <th>assist_tackle_1_player_id</th>\n",
       "      <th>tackles_x</th>\n",
       "      <th>assist_tackle_2_player_id</th>\n",
       "      <th>tackles_y</th>\n",
       "      <th>tackles_xy</th>\n",
       "    </tr>\n",
       "  </thead>\n",
       "  <tbody>\n",
       "    <tr>\n",
       "      <th>0</th>\n",
       "      <td>00-0021140</td>\n",
       "      <td>7</td>\n",
       "      <td>00-0021140</td>\n",
       "      <td>4.0</td>\n",
       "      <td>5.5</td>\n",
       "    </tr>\n",
       "    <tr>\n",
       "      <th>1</th>\n",
       "      <td>00-0022161</td>\n",
       "      <td>5</td>\n",
       "      <td>00-0022161</td>\n",
       "      <td>6.0</td>\n",
       "      <td>5.5</td>\n",
       "    </tr>\n",
       "    <tr>\n",
       "      <th>2</th>\n",
       "      <td>00-0022247</td>\n",
       "      <td>14</td>\n",
       "      <td>00-0022247</td>\n",
       "      <td>19.0</td>\n",
       "      <td>16.5</td>\n",
       "    </tr>\n",
       "    <tr>\n",
       "      <th>3</th>\n",
       "      <td>00-0023173</td>\n",
       "      <td>2</td>\n",
       "      <td>00-0023173</td>\n",
       "      <td>1.0</td>\n",
       "      <td>1.5</td>\n",
       "    </tr>\n",
       "    <tr>\n",
       "      <th>4</th>\n",
       "      <td>00-0023259</td>\n",
       "      <td>13</td>\n",
       "      <td>00-0023259</td>\n",
       "      <td>13.0</td>\n",
       "      <td>13.0</td>\n",
       "    </tr>\n",
       "  </tbody>\n",
       "</table>\n",
       "</div>"
      ],
      "text/plain": [
       "  assist_tackle_1_player_id  tackles_x assist_tackle_2_player_id  tackles_y  \\\n",
       "0                00-0021140          7                00-0021140        4.0   \n",
       "1                00-0022161          5                00-0022161        6.0   \n",
       "2                00-0022247         14                00-0022247       19.0   \n",
       "3                00-0023173          2                00-0023173        1.0   \n",
       "4                00-0023259         13                00-0023259       13.0   \n",
       "\n",
       "   tackles_xy  \n",
       "0         5.5  \n",
       "1         5.5  \n",
       "2        16.5  \n",
       "3         1.5  \n",
       "4        13.0  "
      ]
     },
     "execution_count": 5,
     "metadata": {},
     "output_type": "execute_result"
    }
   ],
   "source": [
    "#Add both groups of tackle assists together, multiply by 0.5 for fantasy point total\n",
    "tacklepts18['tackles_xy'] = (tacklepts18['tackles_x'] + tacklepts18['tackles_y']) * 0.5\n",
    "tacklepts18.head()"
   ]
  },
  {
   "cell_type": "code",
   "execution_count": 6,
   "metadata": {},
   "outputs": [
    {
     "name": "stdout",
     "output_type": "stream",
     "text": [
      "879\n"
     ]
    }
   ],
   "source": [
    "print(len(tacklepts18))"
   ]
  },
  {
   "cell_type": "code",
   "execution_count": 7,
   "metadata": {
    "scrolled": true
   },
   "outputs": [],
   "source": [
    "rosters18 = pd.read_csv(r'rosters_2018.csv', sep = ',', low_memory = False)"
   ]
  },
  {
   "cell_type": "code",
   "execution_count": 8,
   "metadata": {
    "scrolled": true
   },
   "outputs": [
    {
     "name": "stdout",
     "output_type": "stream",
     "text": [
      "879\n"
     ]
    }
   ],
   "source": [
    "print(len(tacklepts18))"
   ]
  },
  {
   "cell_type": "code",
   "execution_count": 9,
   "metadata": {},
   "outputs": [
    {
     "data": {
      "text/html": [
       "<div>\n",
       "<style scoped>\n",
       "    .dataframe tbody tr th:only-of-type {\n",
       "        vertical-align: middle;\n",
       "    }\n",
       "\n",
       "    .dataframe tbody tr th {\n",
       "        vertical-align: top;\n",
       "    }\n",
       "\n",
       "    .dataframe thead th {\n",
       "        text-align: right;\n",
       "    }\n",
       "</style>\n",
       "<table border=\"1\" class=\"dataframe\">\n",
       "  <thead>\n",
       "    <tr style=\"text-align: right;\">\n",
       "      <th></th>\n",
       "      <th>Season</th>\n",
       "      <th>Player</th>\n",
       "      <th>Team</th>\n",
       "      <th>Pos</th>\n",
       "      <th>name</th>\n",
       "      <th>GSIS_ID</th>\n",
       "      <th>tackles_xy</th>\n",
       "      <th>assist_tackle_1_player_id</th>\n",
       "    </tr>\n",
       "  </thead>\n",
       "  <tbody>\n",
       "    <tr>\n",
       "      <th>0</th>\n",
       "      <td>2018</td>\n",
       "      <td>Antoine Bethea</td>\n",
       "      <td>ARI</td>\n",
       "      <td>FS</td>\n",
       "      <td>A.Bethea</td>\n",
       "      <td>00-0024421</td>\n",
       "      <td>13.5</td>\n",
       "      <td>00-0024421</td>\n",
       "    </tr>\n",
       "    <tr>\n",
       "      <th>1</th>\n",
       "      <td>2018</td>\n",
       "      <td>Benson Mayowa</td>\n",
       "      <td>ARI</td>\n",
       "      <td>DE</td>\n",
       "      <td>B.Mayowa</td>\n",
       "      <td>00-0030380</td>\n",
       "      <td>4.5</td>\n",
       "      <td>00-0030380</td>\n",
       "    </tr>\n",
       "    <tr>\n",
       "      <th>2</th>\n",
       "      <td>2018</td>\n",
       "      <td>Brandon Williams</td>\n",
       "      <td>ARI</td>\n",
       "      <td>CB</td>\n",
       "      <td>B.Williams</td>\n",
       "      <td>00-0032769</td>\n",
       "      <td>NaN</td>\n",
       "      <td>NaN</td>\n",
       "    </tr>\n",
       "    <tr>\n",
       "      <th>3</th>\n",
       "      <td>2018</td>\n",
       "      <td>Budda Baker</td>\n",
       "      <td>ARI</td>\n",
       "      <td>SS</td>\n",
       "      <td>B.Baker</td>\n",
       "      <td>00-0033890</td>\n",
       "      <td>15.5</td>\n",
       "      <td>00-0033890</td>\n",
       "    </tr>\n",
       "    <tr>\n",
       "      <th>4</th>\n",
       "      <td>2018</td>\n",
       "      <td>Cameron Malveaux</td>\n",
       "      <td>ARI</td>\n",
       "      <td>DE</td>\n",
       "      <td>C.Malveaux</td>\n",
       "      <td>00-0033403</td>\n",
       "      <td>4.0</td>\n",
       "      <td>00-0033403</td>\n",
       "    </tr>\n",
       "  </tbody>\n",
       "</table>\n",
       "</div>"
      ],
      "text/plain": [
       "   Season            Player Team Pos        name     GSIS_ID  tackles_xy  \\\n",
       "0    2018    Antoine Bethea  ARI  FS    A.Bethea  00-0024421        13.5   \n",
       "1    2018     Benson Mayowa  ARI  DE    B.Mayowa  00-0030380         4.5   \n",
       "2    2018  Brandon Williams  ARI  CB  B.Williams  00-0032769         NaN   \n",
       "3    2018       Budda Baker  ARI  SS     B.Baker  00-0033890        15.5   \n",
       "4    2018  Cameron Malveaux  ARI  DE  C.Malveaux  00-0033403         4.0   \n",
       "\n",
       "  assist_tackle_1_player_id  \n",
       "0                00-0024421  \n",
       "1                00-0030380  \n",
       "2                       NaN  \n",
       "3                00-0033890  \n",
       "4                00-0033403  "
      ]
     },
     "execution_count": 9,
     "metadata": {},
     "output_type": "execute_result"
    }
   ],
   "source": [
    "rosters18 = pd.merge(rosters18, tacklepts18[['tackles_xy','assist_tackle_1_player_id']],left_on='GSIS_ID',right_on='assist_tackle_1_player_id', how='left')\n",
    "rosters18.head()"
   ]
  },
  {
   "cell_type": "code",
   "execution_count": 10,
   "metadata": {
    "scrolled": true
   },
   "outputs": [],
   "source": [
    "rosters18.drop(['assist_tackle_1_player_id'], axis=1,inplace=True)"
   ]
  },
  {
   "cell_type": "code",
   "execution_count": 11,
   "metadata": {},
   "outputs": [
    {
     "name": "stdout",
     "output_type": "stream",
     "text": [
      "1565\n"
     ]
    }
   ],
   "source": [
    "rosters18.head()\n",
    "print(len(rosters18))"
   ]
  },
  {
   "cell_type": "code",
   "execution_count": 12,
   "metadata": {},
   "outputs": [],
   "source": [
    "qbhit18one = pd.DataFrame({'qb_hit' : p18.groupby( [ \"qb_hit_1_player_id\"] ).size()}).reset_index()\n",
    "qbhit18two = pd.DataFrame({'qb_hit' : p18.groupby( [ \"qb_hit_2_player_id\"] ).size()}).reset_index()"
   ]
  },
  {
   "cell_type": "code",
   "execution_count": 13,
   "metadata": {},
   "outputs": [],
   "source": [
    "qbhitpts18 = pd.merge(qbhit18one, qbhit18two, left_on = 'qb_hit_1_player_id', right_on = 'qb_hit_2_player_id', how='left')"
   ]
  },
  {
   "cell_type": "code",
   "execution_count": 14,
   "metadata": {
    "scrolled": false
   },
   "outputs": [
    {
     "data": {
      "text/html": [
       "<div>\n",
       "<style scoped>\n",
       "    .dataframe tbody tr th:only-of-type {\n",
       "        vertical-align: middle;\n",
       "    }\n",
       "\n",
       "    .dataframe tbody tr th {\n",
       "        vertical-align: top;\n",
       "    }\n",
       "\n",
       "    .dataframe thead th {\n",
       "        text-align: right;\n",
       "    }\n",
       "</style>\n",
       "<table border=\"1\" class=\"dataframe\">\n",
       "  <thead>\n",
       "    <tr style=\"text-align: right;\">\n",
       "      <th></th>\n",
       "      <th>qb_hit_1_player_id</th>\n",
       "      <th>qb_hit_x</th>\n",
       "      <th>qb_hit_2_player_id</th>\n",
       "      <th>qb_hit_y</th>\n",
       "      <th>qb_hit_xy</th>\n",
       "    </tr>\n",
       "  </thead>\n",
       "  <tbody>\n",
       "    <tr>\n",
       "      <th>0</th>\n",
       "      <td>00-0021140</td>\n",
       "      <td>11</td>\n",
       "      <td>NaN</td>\n",
       "      <td>NaN</td>\n",
       "      <td>NaN</td>\n",
       "    </tr>\n",
       "    <tr>\n",
       "      <th>1</th>\n",
       "      <td>00-0022161</td>\n",
       "      <td>13</td>\n",
       "      <td>00-0022161</td>\n",
       "      <td>2.0</td>\n",
       "      <td>15.0</td>\n",
       "    </tr>\n",
       "    <tr>\n",
       "      <th>2</th>\n",
       "      <td>00-0022247</td>\n",
       "      <td>1</td>\n",
       "      <td>NaN</td>\n",
       "      <td>NaN</td>\n",
       "      <td>NaN</td>\n",
       "    </tr>\n",
       "    <tr>\n",
       "      <th>3</th>\n",
       "      <td>00-0023259</td>\n",
       "      <td>10</td>\n",
       "      <td>NaN</td>\n",
       "      <td>NaN</td>\n",
       "      <td>NaN</td>\n",
       "    </tr>\n",
       "    <tr>\n",
       "      <th>4</th>\n",
       "      <td>00-0023368</td>\n",
       "      <td>16</td>\n",
       "      <td>00-0023368</td>\n",
       "      <td>1.0</td>\n",
       "      <td>17.0</td>\n",
       "    </tr>\n",
       "  </tbody>\n",
       "</table>\n",
       "</div>"
      ],
      "text/plain": [
       "  qb_hit_1_player_id  qb_hit_x qb_hit_2_player_id  qb_hit_y  qb_hit_xy\n",
       "0         00-0021140        11                NaN       NaN        NaN\n",
       "1         00-0022161        13         00-0022161       2.0       15.0\n",
       "2         00-0022247         1                NaN       NaN        NaN\n",
       "3         00-0023259        10                NaN       NaN        NaN\n",
       "4         00-0023368        16         00-0023368       1.0       17.0"
      ]
     },
     "execution_count": 14,
     "metadata": {},
     "output_type": "execute_result"
    }
   ],
   "source": [
    "qbhitpts18['qb_hit_xy'] = qbhitpts18['qb_hit_x'] + qbhitpts18['qb_hit_y']\n",
    "qbhitpts18.head()"
   ]
  },
  {
   "cell_type": "code",
   "execution_count": 15,
   "metadata": {
    "scrolled": true
   },
   "outputs": [
    {
     "name": "stdout",
     "output_type": "stream",
     "text": [
      "1565\n"
     ]
    }
   ],
   "source": [
    "rosters18.head()\n",
    "print(len(rosters18))"
   ]
  },
  {
   "cell_type": "code",
   "execution_count": 16,
   "metadata": {},
   "outputs": [
    {
     "data": {
      "text/html": [
       "<div>\n",
       "<style scoped>\n",
       "    .dataframe tbody tr th:only-of-type {\n",
       "        vertical-align: middle;\n",
       "    }\n",
       "\n",
       "    .dataframe tbody tr th {\n",
       "        vertical-align: top;\n",
       "    }\n",
       "\n",
       "    .dataframe thead th {\n",
       "        text-align: right;\n",
       "    }\n",
       "</style>\n",
       "<table border=\"1\" class=\"dataframe\">\n",
       "  <thead>\n",
       "    <tr style=\"text-align: right;\">\n",
       "      <th></th>\n",
       "      <th>Season</th>\n",
       "      <th>Player</th>\n",
       "      <th>Team</th>\n",
       "      <th>Pos</th>\n",
       "      <th>name</th>\n",
       "      <th>GSIS_ID</th>\n",
       "      <th>tackles_xy</th>\n",
       "      <th>qb_hit_xy</th>\n",
       "      <th>qb_hit_1_player_id</th>\n",
       "    </tr>\n",
       "  </thead>\n",
       "  <tbody>\n",
       "    <tr>\n",
       "      <th>0</th>\n",
       "      <td>2018</td>\n",
       "      <td>Antoine Bethea</td>\n",
       "      <td>ARI</td>\n",
       "      <td>FS</td>\n",
       "      <td>A.Bethea</td>\n",
       "      <td>00-0024421</td>\n",
       "      <td>13.5</td>\n",
       "      <td>NaN</td>\n",
       "      <td>00-0024421</td>\n",
       "    </tr>\n",
       "    <tr>\n",
       "      <th>1</th>\n",
       "      <td>2018</td>\n",
       "      <td>Benson Mayowa</td>\n",
       "      <td>ARI</td>\n",
       "      <td>DE</td>\n",
       "      <td>B.Mayowa</td>\n",
       "      <td>00-0030380</td>\n",
       "      <td>4.5</td>\n",
       "      <td>NaN</td>\n",
       "      <td>00-0030380</td>\n",
       "    </tr>\n",
       "    <tr>\n",
       "      <th>2</th>\n",
       "      <td>2018</td>\n",
       "      <td>Brandon Williams</td>\n",
       "      <td>ARI</td>\n",
       "      <td>CB</td>\n",
       "      <td>B.Williams</td>\n",
       "      <td>00-0032769</td>\n",
       "      <td>NaN</td>\n",
       "      <td>NaN</td>\n",
       "      <td>NaN</td>\n",
       "    </tr>\n",
       "    <tr>\n",
       "      <th>3</th>\n",
       "      <td>2018</td>\n",
       "      <td>Budda Baker</td>\n",
       "      <td>ARI</td>\n",
       "      <td>SS</td>\n",
       "      <td>B.Baker</td>\n",
       "      <td>00-0033890</td>\n",
       "      <td>15.5</td>\n",
       "      <td>3.0</td>\n",
       "      <td>00-0033890</td>\n",
       "    </tr>\n",
       "    <tr>\n",
       "      <th>4</th>\n",
       "      <td>2018</td>\n",
       "      <td>Cameron Malveaux</td>\n",
       "      <td>ARI</td>\n",
       "      <td>DE</td>\n",
       "      <td>C.Malveaux</td>\n",
       "      <td>00-0033403</td>\n",
       "      <td>4.0</td>\n",
       "      <td>NaN</td>\n",
       "      <td>00-0033403</td>\n",
       "    </tr>\n",
       "  </tbody>\n",
       "</table>\n",
       "</div>"
      ],
      "text/plain": [
       "   Season            Player Team Pos        name     GSIS_ID  tackles_xy  \\\n",
       "0    2018    Antoine Bethea  ARI  FS    A.Bethea  00-0024421        13.5   \n",
       "1    2018     Benson Mayowa  ARI  DE    B.Mayowa  00-0030380         4.5   \n",
       "2    2018  Brandon Williams  ARI  CB  B.Williams  00-0032769         NaN   \n",
       "3    2018       Budda Baker  ARI  SS     B.Baker  00-0033890        15.5   \n",
       "4    2018  Cameron Malveaux  ARI  DE  C.Malveaux  00-0033403         4.0   \n",
       "\n",
       "   qb_hit_xy qb_hit_1_player_id  \n",
       "0        NaN         00-0024421  \n",
       "1        NaN         00-0030380  \n",
       "2        NaN                NaN  \n",
       "3        3.0         00-0033890  \n",
       "4        NaN         00-0033403  "
      ]
     },
     "execution_count": 16,
     "metadata": {},
     "output_type": "execute_result"
    }
   ],
   "source": [
    "rosters18 = pd.merge(rosters18, qbhitpts18[['qb_hit_xy','qb_hit_1_player_id']],left_on='GSIS_ID',right_on='qb_hit_1_player_id', how='left')\n",
    "rosters18.head()"
   ]
  },
  {
   "cell_type": "code",
   "execution_count": 17,
   "metadata": {},
   "outputs": [
    {
     "name": "stdout",
     "output_type": "stream",
     "text": [
      "1565\n"
     ]
    }
   ],
   "source": [
    "print(len(rosters18))"
   ]
  },
  {
   "cell_type": "code",
   "execution_count": 18,
   "metadata": {},
   "outputs": [],
   "source": [
    "rosters18.drop(['qb_hit_1_player_id'], axis=1,inplace=True)"
   ]
  },
  {
   "cell_type": "code",
   "execution_count": 19,
   "metadata": {},
   "outputs": [
    {
     "data": {
      "text/html": [
       "<div>\n",
       "<style scoped>\n",
       "    .dataframe tbody tr th:only-of-type {\n",
       "        vertical-align: middle;\n",
       "    }\n",
       "\n",
       "    .dataframe tbody tr th {\n",
       "        vertical-align: top;\n",
       "    }\n",
       "\n",
       "    .dataframe thead th {\n",
       "        text-align: right;\n",
       "    }\n",
       "</style>\n",
       "<table border=\"1\" class=\"dataframe\">\n",
       "  <thead>\n",
       "    <tr style=\"text-align: right;\">\n",
       "      <th></th>\n",
       "      <th>Season</th>\n",
       "      <th>Player</th>\n",
       "      <th>Team</th>\n",
       "      <th>Pos</th>\n",
       "      <th>name</th>\n",
       "      <th>GSIS_ID</th>\n",
       "      <th>tackles_xy</th>\n",
       "      <th>qb_hit_xy</th>\n",
       "    </tr>\n",
       "  </thead>\n",
       "  <tbody>\n",
       "    <tr>\n",
       "      <th>0</th>\n",
       "      <td>2018</td>\n",
       "      <td>Antoine Bethea</td>\n",
       "      <td>ARI</td>\n",
       "      <td>FS</td>\n",
       "      <td>A.Bethea</td>\n",
       "      <td>00-0024421</td>\n",
       "      <td>13.5</td>\n",
       "      <td>NaN</td>\n",
       "    </tr>\n",
       "    <tr>\n",
       "      <th>1</th>\n",
       "      <td>2018</td>\n",
       "      <td>Benson Mayowa</td>\n",
       "      <td>ARI</td>\n",
       "      <td>DE</td>\n",
       "      <td>B.Mayowa</td>\n",
       "      <td>00-0030380</td>\n",
       "      <td>4.5</td>\n",
       "      <td>NaN</td>\n",
       "    </tr>\n",
       "    <tr>\n",
       "      <th>2</th>\n",
       "      <td>2018</td>\n",
       "      <td>Brandon Williams</td>\n",
       "      <td>ARI</td>\n",
       "      <td>CB</td>\n",
       "      <td>B.Williams</td>\n",
       "      <td>00-0032769</td>\n",
       "      <td>NaN</td>\n",
       "      <td>NaN</td>\n",
       "    </tr>\n",
       "    <tr>\n",
       "      <th>3</th>\n",
       "      <td>2018</td>\n",
       "      <td>Budda Baker</td>\n",
       "      <td>ARI</td>\n",
       "      <td>SS</td>\n",
       "      <td>B.Baker</td>\n",
       "      <td>00-0033890</td>\n",
       "      <td>15.5</td>\n",
       "      <td>3.0</td>\n",
       "    </tr>\n",
       "    <tr>\n",
       "      <th>4</th>\n",
       "      <td>2018</td>\n",
       "      <td>Cameron Malveaux</td>\n",
       "      <td>ARI</td>\n",
       "      <td>DE</td>\n",
       "      <td>C.Malveaux</td>\n",
       "      <td>00-0033403</td>\n",
       "      <td>4.0</td>\n",
       "      <td>NaN</td>\n",
       "    </tr>\n",
       "  </tbody>\n",
       "</table>\n",
       "</div>"
      ],
      "text/plain": [
       "   Season            Player Team Pos        name     GSIS_ID  tackles_xy  \\\n",
       "0    2018    Antoine Bethea  ARI  FS    A.Bethea  00-0024421        13.5   \n",
       "1    2018     Benson Mayowa  ARI  DE    B.Mayowa  00-0030380         4.5   \n",
       "2    2018  Brandon Williams  ARI  CB  B.Williams  00-0032769         NaN   \n",
       "3    2018       Budda Baker  ARI  SS     B.Baker  00-0033890        15.5   \n",
       "4    2018  Cameron Malveaux  ARI  DE  C.Malveaux  00-0033403         4.0   \n",
       "\n",
       "   qb_hit_xy  \n",
       "0        NaN  \n",
       "1        NaN  \n",
       "2        NaN  \n",
       "3        3.0  \n",
       "4        NaN  "
      ]
     },
     "execution_count": 19,
     "metadata": {},
     "output_type": "execute_result"
    }
   ],
   "source": [
    "rosters18.head()"
   ]
  },
  {
   "cell_type": "code",
   "execution_count": null,
   "metadata": {},
   "outputs": [],
   "source": []
  }
 ],
 "metadata": {
  "kernelspec": {
   "display_name": "Python 3",
   "language": "python",
   "name": "python3"
  },
  "language_info": {
   "codemirror_mode": {
    "name": "ipython",
    "version": 3
   },
   "file_extension": ".py",
   "mimetype": "text/x-python",
   "name": "python",
   "nbconvert_exporter": "python",
   "pygments_lexer": "ipython3",
   "version": "3.7.1"
  }
 },
 "nbformat": 4,
 "nbformat_minor": 2
}
