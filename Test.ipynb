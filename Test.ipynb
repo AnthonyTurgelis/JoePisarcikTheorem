{
 "cells": [
  {
   "cell_type": "code",
   "execution_count": 3,
   "metadata": {},
   "outputs": [],
   "source": [
    "import pandas as pd\n",
    "try:\n",
    "    from StringIO import StringIO\n",
    "except ImportError:\n",
    "    from io import StringIO\n",
    "import numpy as np"
   ]
  },
  {
   "cell_type": "code",
   "execution_count": 4,
   "metadata": {},
   "outputs": [],
   "source": [
    "mylist = []\n",
    "for chunk in pd.read_csv(r'nflscrapR-data/play_by_play_data/regular_season/reg_pbp_2018.csv', sep=',', chunksize=20000,low_memory=False):\n",
    "    mylist.append(chunk)\n",
    "p18 = pd.concat(mylist, axis = 0)\n",
    "del mylist"
   ]
  },
  {
   "cell_type": "code",
   "execution_count": 5,
   "metadata": {},
   "outputs": [],
   "source": [
    "#tackles\n",
    "#tacklescoring - https://imgur.com/Ig0eCsh\n",
    "#tacklepositions - LB, S, QB, RB, WR, TE, PK, PN\n",
    "#groupby players and their tackles, create column to determine points from tackles, join with roster data, filter by eligible positions, \n",
    "tacklepts18one = pd.DataFrame({'tackles' : p18.groupby( [ \"assist_tackle_1_player_name\"] ).size()}).reset_index()\n",
    "tacklepts18two = pd.DataFrame({'tackles' : p18.groupby( [ \"assist_tackle_2_player_name\"] ).size()}).reset_index()"
   ]
  },
  {
   "cell_type": "code",
   "execution_count": 6,
   "metadata": {},
   "outputs": [],
   "source": [
    "#gotta figure out how to merge them, something about the column names not being indexed properly\n",
    "tacklepts18 = pd.merge(tacklepts18one, tacklepts18two, left_on = 'assist_tackle_1_player_name', right_on = 'assist_tackle_2_player_name', how='inner')"
   ]
  },
  {
   "cell_type": "code",
   "execution_count": 7,
   "metadata": {
    "scrolled": false
   },
   "outputs": [
    {
     "data": {
      "text/html": [
       "<div>\n",
       "<style scoped>\n",
       "    .dataframe tbody tr th:only-of-type {\n",
       "        vertical-align: middle;\n",
       "    }\n",
       "\n",
       "    .dataframe tbody tr th {\n",
       "        vertical-align: top;\n",
       "    }\n",
       "\n",
       "    .dataframe thead th {\n",
       "        text-align: right;\n",
       "    }\n",
       "</style>\n",
       "<table border=\"1\" class=\"dataframe\">\n",
       "  <thead>\n",
       "    <tr style=\"text-align: right;\">\n",
       "      <th></th>\n",
       "      <th>assist_tackle_1_player_name</th>\n",
       "      <th>tackles_x</th>\n",
       "      <th>assist_tackle_2_player_name</th>\n",
       "      <th>tackles_y</th>\n",
       "      <th>tackles_xy</th>\n",
       "    </tr>\n",
       "  </thead>\n",
       "  <tbody>\n",
       "    <tr>\n",
       "      <th>0</th>\n",
       "      <td>A.Adams</td>\n",
       "      <td>1</td>\n",
       "      <td>A.Adams</td>\n",
       "      <td>9</td>\n",
       "      <td>5.0</td>\n",
       "    </tr>\n",
       "    <tr>\n",
       "      <th>1</th>\n",
       "      <td>A.Amos</td>\n",
       "      <td>8</td>\n",
       "      <td>A.Amos</td>\n",
       "      <td>10</td>\n",
       "      <td>9.0</td>\n",
       "    </tr>\n",
       "    <tr>\n",
       "      <th>2</th>\n",
       "      <td>A.Anzalone</td>\n",
       "      <td>10</td>\n",
       "      <td>A.Anzalone</td>\n",
       "      <td>10</td>\n",
       "      <td>10.0</td>\n",
       "    </tr>\n",
       "    <tr>\n",
       "      <th>3</th>\n",
       "      <td>A.Armstead</td>\n",
       "      <td>10</td>\n",
       "      <td>A.Armstead</td>\n",
       "      <td>9</td>\n",
       "      <td>9.5</td>\n",
       "    </tr>\n",
       "    <tr>\n",
       "      <th>4</th>\n",
       "      <td>A.Bailey</td>\n",
       "      <td>11</td>\n",
       "      <td>A.Bailey</td>\n",
       "      <td>3</td>\n",
       "      <td>7.0</td>\n",
       "    </tr>\n",
       "  </tbody>\n",
       "</table>\n",
       "</div>"
      ],
      "text/plain": [
       "  assist_tackle_1_player_name  tackles_x assist_tackle_2_player_name  \\\n",
       "0                     A.Adams          1                     A.Adams   \n",
       "1                      A.Amos          8                      A.Amos   \n",
       "2                  A.Anzalone         10                  A.Anzalone   \n",
       "3                  A.Armstead         10                  A.Armstead   \n",
       "4                    A.Bailey         11                    A.Bailey   \n",
       "\n",
       "   tackles_y  tackles_xy  \n",
       "0          9         5.0  \n",
       "1         10         9.0  \n",
       "2         10        10.0  \n",
       "3          9         9.5  \n",
       "4          3         7.0  "
      ]
     },
     "execution_count": 7,
     "metadata": {},
     "output_type": "execute_result"
    }
   ],
   "source": [
    "#Add both groups of tackle assists together, multiply by 0.5 for fantasy point total\n",
    "tacklepts18['tackles_xy'] = (tacklepts18['tackles_x'] + tacklepts18['tackles_y']) * 0.5\n",
    "tacklepts18.head()"
   ]
  },
  {
   "cell_type": "code",
   "execution_count": 13,
   "metadata": {},
   "outputs": [
    {
     "name": "stdout",
     "output_type": "stream",
     "text": [
      "711\n"
     ]
    }
   ],
   "source": [
    "print(len(tacklepts18))"
   ]
  },
  {
   "cell_type": "code",
   "execution_count": 8,
   "metadata": {},
   "outputs": [],
   "source": [
    "rosters18 = pd.read_csv(r'nflscrapR-data\\roster_data\\regular_season\\reg_roster_2018.csv', sep = ',', low_memory = False)"
   ]
  },
  {
   "cell_type": "code",
   "execution_count": 9,
   "metadata": {
    "scrolled": true
   },
   "outputs": [
    {
     "name": "stdout",
     "output_type": "stream",
     "text": [
      "544\n"
     ]
    }
   ],
   "source": [
    "print(len(rosters18))"
   ]
  },
  {
   "cell_type": "code",
   "execution_count": 10,
   "metadata": {
    "scrolled": false
   },
   "outputs": [
    {
     "data": {
      "text/html": [
       "<div>\n",
       "<style scoped>\n",
       "    .dataframe tbody tr th:only-of-type {\n",
       "        vertical-align: middle;\n",
       "    }\n",
       "\n",
       "    .dataframe tbody tr th {\n",
       "        vertical-align: top;\n",
       "    }\n",
       "\n",
       "    .dataframe thead th {\n",
       "        text-align: right;\n",
       "    }\n",
       "</style>\n",
       "<table border=\"1\" class=\"dataframe\">\n",
       "  <thead>\n",
       "    <tr style=\"text-align: right;\">\n",
       "      <th></th>\n",
       "      <th>season</th>\n",
       "      <th>season_type</th>\n",
       "      <th>full_player_name</th>\n",
       "      <th>abbr_player_name</th>\n",
       "      <th>team</th>\n",
       "      <th>position</th>\n",
       "      <th>gsis_id</th>\n",
       "      <th>tackles_xy</th>\n",
       "      <th>assist_tackle_1_player_name</th>\n",
       "    </tr>\n",
       "  </thead>\n",
       "  <tbody>\n",
       "    <tr>\n",
       "      <th>0</th>\n",
       "      <td>2018</td>\n",
       "      <td>reg</td>\n",
       "      <td>Aaron Jones</td>\n",
       "      <td>A.Jones</td>\n",
       "      <td>GB</td>\n",
       "      <td>RB</td>\n",
       "      <td>00-0033293</td>\n",
       "      <td>6.5</td>\n",
       "      <td>A.Jones</td>\n",
       "    </tr>\n",
       "    <tr>\n",
       "      <th>1</th>\n",
       "      <td>2018</td>\n",
       "      <td>reg</td>\n",
       "      <td>Andy Jones</td>\n",
       "      <td>A.Jones</td>\n",
       "      <td>DET</td>\n",
       "      <td>WR</td>\n",
       "      <td>00-0032707</td>\n",
       "      <td>6.5</td>\n",
       "      <td>A.Jones</td>\n",
       "    </tr>\n",
       "    <tr>\n",
       "      <th>2</th>\n",
       "      <td>2018</td>\n",
       "      <td>reg</td>\n",
       "      <td>Aldrick Robinson</td>\n",
       "      <td>A.Robinson</td>\n",
       "      <td>MIN</td>\n",
       "      <td>WR</td>\n",
       "      <td>00-0028116</td>\n",
       "      <td>9.5</td>\n",
       "      <td>A.Robinson</td>\n",
       "    </tr>\n",
       "    <tr>\n",
       "      <th>3</th>\n",
       "      <td>2018</td>\n",
       "      <td>reg</td>\n",
       "      <td>Allen Robinson</td>\n",
       "      <td>A.Robinson</td>\n",
       "      <td>CHI</td>\n",
       "      <td>WR</td>\n",
       "      <td>00-0031428</td>\n",
       "      <td>9.5</td>\n",
       "      <td>A.Robinson</td>\n",
       "    </tr>\n",
       "    <tr>\n",
       "      <th>4</th>\n",
       "      <td>2018</td>\n",
       "      <td>reg</td>\n",
       "      <td>Alex Smith</td>\n",
       "      <td>A.Smith</td>\n",
       "      <td>WAS</td>\n",
       "      <td>QB</td>\n",
       "      <td>00-0023436</td>\n",
       "      <td>1.0</td>\n",
       "      <td>A.Smith</td>\n",
       "    </tr>\n",
       "  </tbody>\n",
       "</table>\n",
       "</div>"
      ],
      "text/plain": [
       "   season season_type  full_player_name abbr_player_name team position  \\\n",
       "0    2018         reg       Aaron Jones          A.Jones   GB       RB   \n",
       "1    2018         reg        Andy Jones          A.Jones  DET       WR   \n",
       "2    2018         reg  Aldrick Robinson       A.Robinson  MIN       WR   \n",
       "3    2018         reg    Allen Robinson       A.Robinson  CHI       WR   \n",
       "4    2018         reg        Alex Smith          A.Smith  WAS       QB   \n",
       "\n",
       "      gsis_id  tackles_xy assist_tackle_1_player_name  \n",
       "0  00-0033293         6.5                     A.Jones  \n",
       "1  00-0032707         6.5                     A.Jones  \n",
       "2  00-0028116         9.5                  A.Robinson  \n",
       "3  00-0031428         9.5                  A.Robinson  \n",
       "4  00-0023436         1.0                     A.Smith  "
      ]
     },
     "execution_count": 10,
     "metadata": {},
     "output_type": "execute_result"
    }
   ],
   "source": [
    "#Add the column of  tackle assist points to the roster data\n",
    "#Get rid of extra player id column\n",
    "rosters18 = pd.merge(rosters18,tacklepts18[['tackles_xy','assist_tackle_1_player_name']],left_on='abbr_player_name',right_on='assist_tackle_1_player_name')\n",
    "rosters18.head()"
   ]
  },
  {
   "cell_type": "code",
   "execution_count": 11,
   "metadata": {
    "scrolled": true
   },
   "outputs": [],
   "source": [
    "rosters18.drop(['assist_tackle_1_player_name'], axis=1,inplace=True)"
   ]
  },
  {
   "cell_type": "code",
   "execution_count": 12,
   "metadata": {},
   "outputs": [
    {
     "name": "stdout",
     "output_type": "stream",
     "text": [
      "80\n"
     ]
    }
   ],
   "source": [
    "rosters18.head()\n",
    "print(len(rosters18))"
   ]
  },
  {
   "cell_type": "code",
   "execution_count": 12,
   "metadata": {},
   "outputs": [],
   "source": [
    "qbhit18one = pd.DataFrame({'qb_hit' : p18.groupby( [ \"qb_hit_1_player_name\"] ).size()}).reset_index()\n",
    "qbhit18two = pd.DataFrame({'qb_hit' : p18.groupby( [ \"qb_hit_2_player_name\"] ).size()}).reset_index()"
   ]
  },
  {
   "cell_type": "code",
   "execution_count": 13,
   "metadata": {},
   "outputs": [],
   "source": [
    "qbhitpts18 = pd.merge(qbhit18one, qbhit18two, left_on = 'qb_hit_1_player_name', right_on = 'qb_hit_2_player_name', how='inner')"
   ]
  },
  {
   "cell_type": "code",
   "execution_count": 14,
   "metadata": {
    "scrolled": false
   },
   "outputs": [
    {
     "data": {
      "text/html": [
       "<div>\n",
       "<style scoped>\n",
       "    .dataframe tbody tr th:only-of-type {\n",
       "        vertical-align: middle;\n",
       "    }\n",
       "\n",
       "    .dataframe tbody tr th {\n",
       "        vertical-align: top;\n",
       "    }\n",
       "\n",
       "    .dataframe thead th {\n",
       "        text-align: right;\n",
       "    }\n",
       "</style>\n",
       "<table border=\"1\" class=\"dataframe\">\n",
       "  <thead>\n",
       "    <tr style=\"text-align: right;\">\n",
       "      <th></th>\n",
       "      <th>qb_hit_1_player_name</th>\n",
       "      <th>qb_hit_x</th>\n",
       "      <th>qb_hit_2_player_name</th>\n",
       "      <th>qb_hit_y</th>\n",
       "      <th>qb_hit_xy</th>\n",
       "    </tr>\n",
       "  </thead>\n",
       "  <tbody>\n",
       "    <tr>\n",
       "      <th>0</th>\n",
       "      <td>A.Billings</td>\n",
       "      <td>6</td>\n",
       "      <td>A.Billings</td>\n",
       "      <td>1</td>\n",
       "      <td>7</td>\n",
       "    </tr>\n",
       "    <tr>\n",
       "      <th>1</th>\n",
       "      <td>A.Clayborn</td>\n",
       "      <td>12</td>\n",
       "      <td>A.Clayborn</td>\n",
       "      <td>1</td>\n",
       "      <td>13</td>\n",
       "    </tr>\n",
       "    <tr>\n",
       "      <th>2</th>\n",
       "      <td>A.Donald</td>\n",
       "      <td>40</td>\n",
       "      <td>A.Donald</td>\n",
       "      <td>1</td>\n",
       "      <td>41</td>\n",
       "    </tr>\n",
       "    <tr>\n",
       "      <th>3</th>\n",
       "      <td>A.Woods</td>\n",
       "      <td>6</td>\n",
       "      <td>A.Woods</td>\n",
       "      <td>1</td>\n",
       "      <td>7</td>\n",
       "    </tr>\n",
       "    <tr>\n",
       "      <th>4</th>\n",
       "      <td>B.Baker</td>\n",
       "      <td>1</td>\n",
       "      <td>B.Baker</td>\n",
       "      <td>2</td>\n",
       "      <td>3</td>\n",
       "    </tr>\n",
       "  </tbody>\n",
       "</table>\n",
       "</div>"
      ],
      "text/plain": [
       "  qb_hit_1_player_name  qb_hit_x qb_hit_2_player_name  qb_hit_y  qb_hit_xy\n",
       "0           A.Billings         6           A.Billings         1          7\n",
       "1           A.Clayborn        12           A.Clayborn         1         13\n",
       "2             A.Donald        40             A.Donald         1         41\n",
       "3              A.Woods         6              A.Woods         1          7\n",
       "4              B.Baker         1              B.Baker         2          3"
      ]
     },
     "execution_count": 14,
     "metadata": {},
     "output_type": "execute_result"
    }
   ],
   "source": [
    "qbhitpts18['qb_hit_xy'] = qbhitpts18['qb_hit_x'] + qbhitpts18['qb_hit_y']\n",
    "qbhitpts18.head()"
   ]
  },
  {
   "cell_type": "code",
   "execution_count": 15,
   "metadata": {
    "scrolled": true
   },
   "outputs": [
    {
     "data": {
      "text/html": [
       "<div>\n",
       "<style scoped>\n",
       "    .dataframe tbody tr th:only-of-type {\n",
       "        vertical-align: middle;\n",
       "    }\n",
       "\n",
       "    .dataframe tbody tr th {\n",
       "        vertical-align: top;\n",
       "    }\n",
       "\n",
       "    .dataframe thead th {\n",
       "        text-align: right;\n",
       "    }\n",
       "</style>\n",
       "<table border=\"1\" class=\"dataframe\">\n",
       "  <thead>\n",
       "    <tr style=\"text-align: right;\">\n",
       "      <th></th>\n",
       "      <th>season</th>\n",
       "      <th>season_type</th>\n",
       "      <th>full_player_name</th>\n",
       "      <th>abbr_player_name</th>\n",
       "      <th>team</th>\n",
       "      <th>position</th>\n",
       "      <th>gsis_id</th>\n",
       "      <th>tackles_xy</th>\n",
       "    </tr>\n",
       "  </thead>\n",
       "  <tbody>\n",
       "    <tr>\n",
       "      <th>0</th>\n",
       "      <td>2018</td>\n",
       "      <td>reg</td>\n",
       "      <td>Aaron Jones</td>\n",
       "      <td>A.Jones</td>\n",
       "      <td>GB</td>\n",
       "      <td>RB</td>\n",
       "      <td>00-0033293</td>\n",
       "      <td>6.5</td>\n",
       "    </tr>\n",
       "    <tr>\n",
       "      <th>1</th>\n",
       "      <td>2018</td>\n",
       "      <td>reg</td>\n",
       "      <td>Andy Jones</td>\n",
       "      <td>A.Jones</td>\n",
       "      <td>DET</td>\n",
       "      <td>WR</td>\n",
       "      <td>00-0032707</td>\n",
       "      <td>6.5</td>\n",
       "    </tr>\n",
       "    <tr>\n",
       "      <th>2</th>\n",
       "      <td>2018</td>\n",
       "      <td>reg</td>\n",
       "      <td>Aldrick Robinson</td>\n",
       "      <td>A.Robinson</td>\n",
       "      <td>MIN</td>\n",
       "      <td>WR</td>\n",
       "      <td>00-0028116</td>\n",
       "      <td>9.5</td>\n",
       "    </tr>\n",
       "    <tr>\n",
       "      <th>3</th>\n",
       "      <td>2018</td>\n",
       "      <td>reg</td>\n",
       "      <td>Allen Robinson</td>\n",
       "      <td>A.Robinson</td>\n",
       "      <td>CHI</td>\n",
       "      <td>WR</td>\n",
       "      <td>00-0031428</td>\n",
       "      <td>9.5</td>\n",
       "    </tr>\n",
       "    <tr>\n",
       "      <th>4</th>\n",
       "      <td>2018</td>\n",
       "      <td>reg</td>\n",
       "      <td>Alex Smith</td>\n",
       "      <td>A.Smith</td>\n",
       "      <td>WAS</td>\n",
       "      <td>QB</td>\n",
       "      <td>00-0023436</td>\n",
       "      <td>1.0</td>\n",
       "    </tr>\n",
       "  </tbody>\n",
       "</table>\n",
       "</div>"
      ],
      "text/plain": [
       "   season season_type  full_player_name abbr_player_name team position  \\\n",
       "0    2018         reg       Aaron Jones          A.Jones   GB       RB   \n",
       "1    2018         reg        Andy Jones          A.Jones  DET       WR   \n",
       "2    2018         reg  Aldrick Robinson       A.Robinson  MIN       WR   \n",
       "3    2018         reg    Allen Robinson       A.Robinson  CHI       WR   \n",
       "4    2018         reg        Alex Smith          A.Smith  WAS       QB   \n",
       "\n",
       "      gsis_id  tackles_xy  \n",
       "0  00-0033293         6.5  \n",
       "1  00-0032707         6.5  \n",
       "2  00-0028116         9.5  \n",
       "3  00-0031428         9.5  \n",
       "4  00-0023436         1.0  "
      ]
     },
     "execution_count": 15,
     "metadata": {},
     "output_type": "execute_result"
    }
   ],
   "source": [
    "rosters18.head()\n",
    "print(len(rosters18))"
   ]
  },
  {
   "cell_type": "code",
   "execution_count": 16,
   "metadata": {},
   "outputs": [
    {
     "data": {
      "text/html": [
       "<div>\n",
       "<style scoped>\n",
       "    .dataframe tbody tr th:only-of-type {\n",
       "        vertical-align: middle;\n",
       "    }\n",
       "\n",
       "    .dataframe tbody tr th {\n",
       "        vertical-align: top;\n",
       "    }\n",
       "\n",
       "    .dataframe thead th {\n",
       "        text-align: right;\n",
       "    }\n",
       "</style>\n",
       "<table border=\"1\" class=\"dataframe\">\n",
       "  <thead>\n",
       "    <tr style=\"text-align: right;\">\n",
       "      <th></th>\n",
       "      <th>season</th>\n",
       "      <th>season_type</th>\n",
       "      <th>full_player_name</th>\n",
       "      <th>abbr_player_name</th>\n",
       "      <th>team</th>\n",
       "      <th>position</th>\n",
       "      <th>gsis_id</th>\n",
       "      <th>tackles_xy</th>\n",
       "      <th>qb_hit_xy</th>\n",
       "      <th>qb_hit_1_player_name</th>\n",
       "    </tr>\n",
       "  </thead>\n",
       "  <tbody>\n",
       "    <tr>\n",
       "      <th>0</th>\n",
       "      <td>2018</td>\n",
       "      <td>reg</td>\n",
       "      <td>Brian Hill</td>\n",
       "      <td>B.Hill</td>\n",
       "      <td>ATL</td>\n",
       "      <td>RB</td>\n",
       "      <td>00-0033567</td>\n",
       "      <td>12.5</td>\n",
       "      <td>8</td>\n",
       "      <td>B.Hill</td>\n",
       "    </tr>\n",
       "    <tr>\n",
       "      <th>1</th>\n",
       "      <td>2018</td>\n",
       "      <td>reg</td>\n",
       "      <td>David Morgan</td>\n",
       "      <td>D.Morgan</td>\n",
       "      <td>MIN</td>\n",
       "      <td>TE</td>\n",
       "      <td>00-0032430</td>\n",
       "      <td>5.5</td>\n",
       "      <td>4</td>\n",
       "      <td>D.Morgan</td>\n",
       "    </tr>\n",
       "    <tr>\n",
       "      <th>2</th>\n",
       "      <td>2018</td>\n",
       "      <td>reg</td>\n",
       "      <td>Jordan Reed</td>\n",
       "      <td>J.Reed</td>\n",
       "      <td>WAS</td>\n",
       "      <td>TE</td>\n",
       "      <td>00-0030472</td>\n",
       "      <td>9.0</td>\n",
       "      <td>24</td>\n",
       "      <td>J.Reed</td>\n",
       "    </tr>\n",
       "    <tr>\n",
       "      <th>3</th>\n",
       "      <td>2018</td>\n",
       "      <td>reg</td>\n",
       "      <td>Josh Johnson</td>\n",
       "      <td>J.Johnson</td>\n",
       "      <td>WAS</td>\n",
       "      <td>QB</td>\n",
       "      <td>00-0026300</td>\n",
       "      <td>30.5</td>\n",
       "      <td>4</td>\n",
       "      <td>J.Johnson</td>\n",
       "    </tr>\n",
       "    <tr>\n",
       "      <th>4</th>\n",
       "      <td>2018</td>\n",
       "      <td>reg</td>\n",
       "      <td>Mark Ingram</td>\n",
       "      <td>M.Ingram</td>\n",
       "      <td>NO</td>\n",
       "      <td>RB</td>\n",
       "      <td>00-0027966</td>\n",
       "      <td>8.5</td>\n",
       "      <td>16</td>\n",
       "      <td>M.Ingram</td>\n",
       "    </tr>\n",
       "  </tbody>\n",
       "</table>\n",
       "</div>"
      ],
      "text/plain": [
       "   season season_type full_player_name abbr_player_name team position  \\\n",
       "0    2018         reg       Brian Hill           B.Hill  ATL       RB   \n",
       "1    2018         reg     David Morgan         D.Morgan  MIN       TE   \n",
       "2    2018         reg      Jordan Reed           J.Reed  WAS       TE   \n",
       "3    2018         reg     Josh Johnson        J.Johnson  WAS       QB   \n",
       "4    2018         reg      Mark Ingram         M.Ingram   NO       RB   \n",
       "\n",
       "      gsis_id  tackles_xy  qb_hit_xy qb_hit_1_player_name  \n",
       "0  00-0033567        12.5          8               B.Hill  \n",
       "1  00-0032430         5.5          4             D.Morgan  \n",
       "2  00-0030472         9.0         24               J.Reed  \n",
       "3  00-0026300        30.5          4            J.Johnson  \n",
       "4  00-0027966         8.5         16             M.Ingram  "
      ]
     },
     "execution_count": 16,
     "metadata": {},
     "output_type": "execute_result"
    }
   ],
   "source": [
    "rosters18 = pd.merge(rosters18,qbhitpts18[['qb_hit_xy','qb_hit_1_player_name']],left_on='abbr_player_name',right_on='qb_hit_1_player_name')\n",
    "rosters18.head()"
   ]
  },
  {
   "cell_type": "code",
   "execution_count": 17,
   "metadata": {},
   "outputs": [
    {
     "name": "stdout",
     "output_type": "stream",
     "text": [
      "5\n"
     ]
    }
   ],
   "source": [
    "print(len(rosters18))"
   ]
  },
  {
   "cell_type": "code",
   "execution_count": null,
   "metadata": {},
   "outputs": [],
   "source": []
  }
 ],
 "metadata": {
  "kernelspec": {
   "display_name": "Python 3",
   "language": "python",
   "name": "python3"
  },
  "language_info": {
   "codemirror_mode": {
    "name": "ipython",
    "version": 3
   },
   "file_extension": ".py",
   "mimetype": "text/x-python",
   "name": "python",
   "nbconvert_exporter": "python",
   "pygments_lexer": "ipython3",
   "version": "3.7.1"
  }
 },
 "nbformat": 4,
 "nbformat_minor": 2
}
