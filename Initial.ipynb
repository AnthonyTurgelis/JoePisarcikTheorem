{
 "cells": [
  {
   "cell_type": "code",
   "execution_count": 5,
   "metadata": {},
   "outputs": [],
   "source": [
    "import pandas as pd\n",
    "try:\n",
    "    from StringIO import StringIO\n",
    "except ImportError:\n",
    "    from io import StringIO\n",
    "import numpy as np"
   ]
  },
  {
   "cell_type": "code",
   "execution_count": 6,
   "metadata": {},
   "outputs": [],
   "source": [
    "p9 = pd.read_csv(r'nflscrapR-data/play_by_play_data/regular_season/reg_pbp_2009.csv', sep=',', low_memory=False)"
   ]
  },
  {
   "cell_type": "code",
   "execution_count": 7,
   "metadata": {},
   "outputs": [],
   "source": [
    "p10 = pd.read_csv(r'nflscrapR-data/play_by_play_data/regular_season/reg_pbp_2010.csv', sep=',', low_memory=False)"
   ]
  },
  {
   "cell_type": "code",
   "execution_count": 8,
   "metadata": {},
   "outputs": [],
   "source": [
    "p11 = pd.read_csv(r'nflscrapR-data/play_by_play_data/regular_season/reg_pbp_2011.csv', sep=',', low_memory=False)"
   ]
  },
  {
   "cell_type": "code",
   "execution_count": 9,
   "metadata": {},
   "outputs": [],
   "source": [
    "p12 = pd.read_csv(r'nflscrapR-data/play_by_play_data/regular_season/reg_pbp_2012.csv', sep=',', low_memory=False)"
   ]
  },
  {
   "cell_type": "code",
   "execution_count": 10,
   "metadata": {},
   "outputs": [],
   "source": [
    "p13 = pd.read_csv(r'nflscrapR-data/play_by_play_data/regular_season/reg_pbp_2013.csv', sep=',', low_memory=False)"
   ]
  },
  {
   "cell_type": "code",
   "execution_count": 11,
   "metadata": {},
   "outputs": [],
   "source": [
    "p14 = pd.read_csv(r'nflscrapR-data/play_by_play_data/regular_season/reg_pbp_2014.csv', sep=',', low_memory=False)"
   ]
  },
  {
   "cell_type": "code",
   "execution_count": 12,
   "metadata": {},
   "outputs": [],
   "source": [
    "p15 = pd.read_csv(r'nflscrapR-data/play_by_play_data/regular_season/reg_pbp_2015.csv', sep=',', low_memory=False)"
   ]
  },
  {
   "cell_type": "code",
   "execution_count": 18,
   "metadata": {},
   "outputs": [],
   "source": [
    "mylist = []\n",
    "\n",
    "for chunk in pd.read_csv(r'nflscrapR-data/play_by_play_data/regular_season/reg_pbp_2016.csv', sep=',', chunksize=20000):\n",
    "    mylist.append(chunk)\n",
    "p16 = pd.concat(mylist, axis = 0)\n"
   ]
  },
  {
   "cell_type": "code",
   "execution_count": 19,
   "metadata": {},
   "outputs": [],
   "source": [
    "p17 = pd.read_csv(r'nflscrapR-data/play_by_play_data/regular_season/reg_pbp_2017.csv', sep=',', low_memory=False)"
   ]
  },
  {
   "cell_type": "code",
   "execution_count": 23,
   "metadata": {},
   "outputs": [],
   "source": [
    "mylist = []\n",
    "for chunk in pd.read_csv(r'nflscrapR-data/play_by_play_data/regular_season/reg_pbp_2018.csv', sep=',', chunksize=20000,low_memory=False):\n",
    "    mylist.append(chunk)\n",
    "p18 = pd.concat(mylist, axis = 0)\n",
    "del mylist"
   ]
  },
  {
   "cell_type": "code",
   "execution_count": 24,
   "metadata": {},
   "outputs": [
    {
     "data": {
      "text/html": [
       "<div>\n",
       "<style scoped>\n",
       "    .dataframe tbody tr th:only-of-type {\n",
       "        vertical-align: middle;\n",
       "    }\n",
       "\n",
       "    .dataframe tbody tr th {\n",
       "        vertical-align: top;\n",
       "    }\n",
       "\n",
       "    .dataframe thead th {\n",
       "        text-align: right;\n",
       "    }\n",
       "</style>\n",
       "<table border=\"1\" class=\"dataframe\">\n",
       "  <thead>\n",
       "    <tr style=\"text-align: right;\">\n",
       "      <th></th>\n",
       "      <th></th>\n",
       "      <th>pass_touchdown</th>\n",
       "      <th>yards_gained</th>\n",
       "    </tr>\n",
       "    <tr>\n",
       "      <th>posteam</th>\n",
       "      <th>passer_player_name</th>\n",
       "      <th></th>\n",
       "      <th></th>\n",
       "    </tr>\n",
       "  </thead>\n",
       "  <tbody>\n",
       "    <tr>\n",
       "      <th rowspan=\"4\" valign=\"top\">ARI</th>\n",
       "      <th>J.Rosen</th>\n",
       "      <td>11</td>\n",
       "      <td>1960</td>\n",
       "    </tr>\n",
       "    <tr>\n",
       "      <th>L.Fitzgerald</th>\n",
       "      <td>1</td>\n",
       "      <td>32</td>\n",
       "    </tr>\n",
       "    <tr>\n",
       "      <th>M.Glennon</th>\n",
       "      <td>1</td>\n",
       "      <td>166</td>\n",
       "    </tr>\n",
       "    <tr>\n",
       "      <th>S.Bradford</th>\n",
       "      <td>2</td>\n",
       "      <td>367</td>\n",
       "    </tr>\n",
       "    <tr>\n",
       "      <th>ATL</th>\n",
       "      <th>M.Ryan</th>\n",
       "      <td>35</td>\n",
       "      <td>4632</td>\n",
       "    </tr>\n",
       "  </tbody>\n",
       "</table>\n",
       "</div>"
      ],
      "text/plain": [
       "                            pass_touchdown  yards_gained\n",
       "posteam passer_player_name                              \n",
       "ARI     J.Rosen                         11          1960\n",
       "        L.Fitzgerald                     1            32\n",
       "        M.Glennon                        1           166\n",
       "        S.Bradford                       2           367\n",
       "ATL     M.Ryan                          35          4632"
      ]
     },
     "execution_count": 24,
     "metadata": {},
     "output_type": "execute_result"
    }
   ],
   "source": [
    "passergroup18 = p18.groupby(['posteam', 'passer_player_name'])[\"pass_touchdown\", \"yards_gained\"].apply(lambda x : x.astype(int).sum())\n",
    "passergroup18.head()"
   ]
  },
  {
   "cell_type": "code",
   "execution_count": 29,
   "metadata": {},
   "outputs": [
    {
     "data": {
      "text/plain": [
       "pandas.core.frame.DataFrame"
      ]
     },
     "execution_count": 29,
     "metadata": {},
     "output_type": "execute_result"
    }
   ],
   "source": [
    "#tackles\n",
    "#tacklescoring - https://imgur.com/Ig0eCsh\n",
    "#tacklepositions - LB, S, QB, RB, WR, TE, PK, PN\n",
    "#groupby players and their tackles, create column to determine points from tackles, join with roster data, filter by eligible positions, \n",
    "tacklepts18one = pd.DataFrame({'tackles' : p18.groupby( [ \"assist_tackle_1_player_id\"] ).size()}).reset_index()\n",
    "tacklepts18two = pd.DataFrame({'tackles' : p18.groupby( [ \"assist_tackle_2_player_id\"] ).size()}).reset_index()\n",
    "type(tacklepts18one)"
   ]
  },
  {
   "cell_type": "code",
   "execution_count": 30,
   "metadata": {},
   "outputs": [
    {
     "data": {
      "text/html": [
       "<div>\n",
       "<style scoped>\n",
       "    .dataframe tbody tr th:only-of-type {\n",
       "        vertical-align: middle;\n",
       "    }\n",
       "\n",
       "    .dataframe tbody tr th {\n",
       "        vertical-align: top;\n",
       "    }\n",
       "\n",
       "    .dataframe thead th {\n",
       "        text-align: right;\n",
       "    }\n",
       "</style>\n",
       "<table border=\"1\" class=\"dataframe\">\n",
       "  <thead>\n",
       "    <tr style=\"text-align: right;\">\n",
       "      <th></th>\n",
       "      <th>assist_tackle_1_player_id</th>\n",
       "      <th>tackles</th>\n",
       "    </tr>\n",
       "  </thead>\n",
       "  <tbody>\n",
       "    <tr>\n",
       "      <th>0</th>\n",
       "      <td>00-0021140</td>\n",
       "      <td>7</td>\n",
       "    </tr>\n",
       "    <tr>\n",
       "      <th>1</th>\n",
       "      <td>00-0022161</td>\n",
       "      <td>5</td>\n",
       "    </tr>\n",
       "    <tr>\n",
       "      <th>2</th>\n",
       "      <td>00-0022247</td>\n",
       "      <td>14</td>\n",
       "    </tr>\n",
       "    <tr>\n",
       "      <th>3</th>\n",
       "      <td>00-0023173</td>\n",
       "      <td>2</td>\n",
       "    </tr>\n",
       "    <tr>\n",
       "      <th>4</th>\n",
       "      <td>00-0023259</td>\n",
       "      <td>13</td>\n",
       "    </tr>\n",
       "  </tbody>\n",
       "</table>\n",
       "</div>"
      ],
      "text/plain": [
       "  assist_tackle_1_player_id  tackles\n",
       "0                00-0021140        7\n",
       "1                00-0022161        5\n",
       "2                00-0022247       14\n",
       "3                00-0023173        2\n",
       "4                00-0023259       13"
      ]
     },
     "execution_count": 30,
     "metadata": {},
     "output_type": "execute_result"
    }
   ],
   "source": [
    "tacklepts18one.head()"
   ]
  },
  {
   "cell_type": "code",
   "execution_count": 31,
   "metadata": {},
   "outputs": [],
   "source": [
    "#gotta figure out how to merge them, something about the column names not being indexed properly\n",
    "tacklepts18 = pd.merge(tacklepts18one, tacklepts18two, left_on = 'assist_tackle_1_player_id', right_on = 'assist_tackle_2_player_id', how='inner')"
   ]
  },
  {
   "cell_type": "code",
   "execution_count": 32,
   "metadata": {
    "scrolled": true
   },
   "outputs": [
    {
     "data": {
      "text/html": [
       "<div>\n",
       "<style scoped>\n",
       "    .dataframe tbody tr th:only-of-type {\n",
       "        vertical-align: middle;\n",
       "    }\n",
       "\n",
       "    .dataframe tbody tr th {\n",
       "        vertical-align: top;\n",
       "    }\n",
       "\n",
       "    .dataframe thead th {\n",
       "        text-align: right;\n",
       "    }\n",
       "</style>\n",
       "<table border=\"1\" class=\"dataframe\">\n",
       "  <thead>\n",
       "    <tr style=\"text-align: right;\">\n",
       "      <th></th>\n",
       "      <th>assist_tackle_1_player_id</th>\n",
       "      <th>tackles_x</th>\n",
       "      <th>assist_tackle_2_player_id</th>\n",
       "      <th>tackles_y</th>\n",
       "    </tr>\n",
       "  </thead>\n",
       "  <tbody>\n",
       "    <tr>\n",
       "      <th>0</th>\n",
       "      <td>00-0021140</td>\n",
       "      <td>7</td>\n",
       "      <td>00-0021140</td>\n",
       "      <td>4</td>\n",
       "    </tr>\n",
       "    <tr>\n",
       "      <th>1</th>\n",
       "      <td>00-0022161</td>\n",
       "      <td>5</td>\n",
       "      <td>00-0022161</td>\n",
       "      <td>6</td>\n",
       "    </tr>\n",
       "    <tr>\n",
       "      <th>2</th>\n",
       "      <td>00-0022247</td>\n",
       "      <td>14</td>\n",
       "      <td>00-0022247</td>\n",
       "      <td>19</td>\n",
       "    </tr>\n",
       "    <tr>\n",
       "      <th>3</th>\n",
       "      <td>00-0023173</td>\n",
       "      <td>2</td>\n",
       "      <td>00-0023173</td>\n",
       "      <td>1</td>\n",
       "    </tr>\n",
       "    <tr>\n",
       "      <th>4</th>\n",
       "      <td>00-0023259</td>\n",
       "      <td>13</td>\n",
       "      <td>00-0023259</td>\n",
       "      <td>13</td>\n",
       "    </tr>\n",
       "  </tbody>\n",
       "</table>\n",
       "</div>"
      ],
      "text/plain": [
       "  assist_tackle_1_player_id  tackles_x assist_tackle_2_player_id  tackles_y\n",
       "0                00-0021140          7                00-0021140          4\n",
       "1                00-0022161          5                00-0022161          6\n",
       "2                00-0022247         14                00-0022247         19\n",
       "3                00-0023173          2                00-0023173          1\n",
       "4                00-0023259         13                00-0023259         13"
      ]
     },
     "execution_count": 32,
     "metadata": {},
     "output_type": "execute_result"
    }
   ],
   "source": [
    "tacklepts18.head()"
   ]
  },
  {
   "cell_type": "code",
   "execution_count": 33,
   "metadata": {},
   "outputs": [
    {
     "data": {
      "text/html": [
       "<div>\n",
       "<style scoped>\n",
       "    .dataframe tbody tr th:only-of-type {\n",
       "        vertical-align: middle;\n",
       "    }\n",
       "\n",
       "    .dataframe tbody tr th {\n",
       "        vertical-align: top;\n",
       "    }\n",
       "\n",
       "    .dataframe thead th {\n",
       "        text-align: right;\n",
       "    }\n",
       "</style>\n",
       "<table border=\"1\" class=\"dataframe\">\n",
       "  <thead>\n",
       "    <tr style=\"text-align: right;\">\n",
       "      <th></th>\n",
       "      <th>assist_tackle_1_player_id</th>\n",
       "      <th>tackles_x</th>\n",
       "      <th>assist_tackle_2_player_id</th>\n",
       "      <th>tackles_y</th>\n",
       "      <th>tackles_xy</th>\n",
       "    </tr>\n",
       "  </thead>\n",
       "  <tbody>\n",
       "    <tr>\n",
       "      <th>0</th>\n",
       "      <td>00-0021140</td>\n",
       "      <td>7</td>\n",
       "      <td>00-0021140</td>\n",
       "      <td>4</td>\n",
       "      <td>5.5</td>\n",
       "    </tr>\n",
       "    <tr>\n",
       "      <th>1</th>\n",
       "      <td>00-0022161</td>\n",
       "      <td>5</td>\n",
       "      <td>00-0022161</td>\n",
       "      <td>6</td>\n",
       "      <td>5.5</td>\n",
       "    </tr>\n",
       "    <tr>\n",
       "      <th>2</th>\n",
       "      <td>00-0022247</td>\n",
       "      <td>14</td>\n",
       "      <td>00-0022247</td>\n",
       "      <td>19</td>\n",
       "      <td>16.5</td>\n",
       "    </tr>\n",
       "    <tr>\n",
       "      <th>3</th>\n",
       "      <td>00-0023173</td>\n",
       "      <td>2</td>\n",
       "      <td>00-0023173</td>\n",
       "      <td>1</td>\n",
       "      <td>1.5</td>\n",
       "    </tr>\n",
       "    <tr>\n",
       "      <th>4</th>\n",
       "      <td>00-0023259</td>\n",
       "      <td>13</td>\n",
       "      <td>00-0023259</td>\n",
       "      <td>13</td>\n",
       "      <td>13.0</td>\n",
       "    </tr>\n",
       "  </tbody>\n",
       "</table>\n",
       "</div>"
      ],
      "text/plain": [
       "  assist_tackle_1_player_id  tackles_x assist_tackle_2_player_id  tackles_y  \\\n",
       "0                00-0021140          7                00-0021140          4   \n",
       "1                00-0022161          5                00-0022161          6   \n",
       "2                00-0022247         14                00-0022247         19   \n",
       "3                00-0023173          2                00-0023173          1   \n",
       "4                00-0023259         13                00-0023259         13   \n",
       "\n",
       "   tackles_xy  \n",
       "0         5.5  \n",
       "1         5.5  \n",
       "2        16.5  \n",
       "3         1.5  \n",
       "4        13.0  "
      ]
     },
     "execution_count": 33,
     "metadata": {},
     "output_type": "execute_result"
    }
   ],
   "source": [
    "#Add both groups of tackle assists together, multiply by 0.5 for fantasy point total\n",
    "tacklepts18['tackles_xy'] = (tacklepts18['tackles_x'] + tacklepts18['tackles_y']) * 0.5\n",
    "tacklepts18.head()"
   ]
  },
  {
   "cell_type": "code",
   "execution_count": 34,
   "metadata": {},
   "outputs": [],
   "source": [
    "rosters18 = pd.read_csv(r'nflscrapR-data\\roster_data\\regular_season\\reg_roster_2018.csv', sep = ',', low_memory = False )"
   ]
  },
  {
   "cell_type": "code",
   "execution_count": 35,
   "metadata": {},
   "outputs": [
    {
     "data": {
      "text/html": [
       "<div>\n",
       "<style scoped>\n",
       "    .dataframe tbody tr th:only-of-type {\n",
       "        vertical-align: middle;\n",
       "    }\n",
       "\n",
       "    .dataframe tbody tr th {\n",
       "        vertical-align: top;\n",
       "    }\n",
       "\n",
       "    .dataframe thead th {\n",
       "        text-align: right;\n",
       "    }\n",
       "</style>\n",
       "<table border=\"1\" class=\"dataframe\">\n",
       "  <thead>\n",
       "    <tr style=\"text-align: right;\">\n",
       "      <th></th>\n",
       "      <th>season</th>\n",
       "      <th>season_type</th>\n",
       "      <th>full_player_name</th>\n",
       "      <th>abbr_player_name</th>\n",
       "      <th>team</th>\n",
       "      <th>position</th>\n",
       "      <th>gsis_id</th>\n",
       "      <th>tackles_xy</th>\n",
       "      <th>assist_tackle_1_player_id</th>\n",
       "    </tr>\n",
       "  </thead>\n",
       "  <tbody>\n",
       "    <tr>\n",
       "      <th>0</th>\n",
       "      <td>2018</td>\n",
       "      <td>reg</td>\n",
       "      <td>Anthony Sherman</td>\n",
       "      <td>A.Sherman</td>\n",
       "      <td>KC</td>\n",
       "      <td>RB</td>\n",
       "      <td>00-0028074</td>\n",
       "      <td>1.0</td>\n",
       "      <td>00-0028074</td>\n",
       "    </tr>\n",
       "    <tr>\n",
       "      <th>1</th>\n",
       "      <td>2018</td>\n",
       "      <td>reg</td>\n",
       "      <td>C.J. Ham</td>\n",
       "      <td>C.Ham</td>\n",
       "      <td>MIN</td>\n",
       "      <td>FB</td>\n",
       "      <td>00-0032918</td>\n",
       "      <td>2.0</td>\n",
       "      <td>00-0032918</td>\n",
       "    </tr>\n",
       "    <tr>\n",
       "      <th>2</th>\n",
       "      <td>2018</td>\n",
       "      <td>reg</td>\n",
       "      <td>Charone Peake</td>\n",
       "      <td>C.Peake</td>\n",
       "      <td>NYJ</td>\n",
       "      <td>WR</td>\n",
       "      <td>00-0032959</td>\n",
       "      <td>1.0</td>\n",
       "      <td>00-0032959</td>\n",
       "    </tr>\n",
       "    <tr>\n",
       "      <th>3</th>\n",
       "      <td>2018</td>\n",
       "      <td>reg</td>\n",
       "      <td>Darius Jennings</td>\n",
       "      <td>D.Jennings</td>\n",
       "      <td>TEN</td>\n",
       "      <td>WR</td>\n",
       "      <td>00-0031972</td>\n",
       "      <td>1.0</td>\n",
       "      <td>00-0031972</td>\n",
       "    </tr>\n",
       "    <tr>\n",
       "      <th>4</th>\n",
       "      <td>2018</td>\n",
       "      <td>reg</td>\n",
       "      <td>De'Lance Turner</td>\n",
       "      <td>D.Turner</td>\n",
       "      <td>BAL</td>\n",
       "      <td>RB</td>\n",
       "      <td>00-0034201</td>\n",
       "      <td>1.0</td>\n",
       "      <td>00-0034201</td>\n",
       "    </tr>\n",
       "  </tbody>\n",
       "</table>\n",
       "</div>"
      ],
      "text/plain": [
       "   season season_type full_player_name abbr_player_name team position  \\\n",
       "0    2018         reg  Anthony Sherman        A.Sherman   KC       RB   \n",
       "1    2018         reg         C.J. Ham            C.Ham  MIN       FB   \n",
       "2    2018         reg    Charone Peake          C.Peake  NYJ       WR   \n",
       "3    2018         reg  Darius Jennings       D.Jennings  TEN       WR   \n",
       "4    2018         reg  De'Lance Turner         D.Turner  BAL       RB   \n",
       "\n",
       "      gsis_id  tackles_xy assist_tackle_1_player_id  \n",
       "0  00-0028074         1.0                00-0028074  \n",
       "1  00-0032918         2.0                00-0032918  \n",
       "2  00-0032959         1.0                00-0032959  \n",
       "3  00-0031972         1.0                00-0031972  \n",
       "4  00-0034201         1.0                00-0034201  "
      ]
     },
     "execution_count": 35,
     "metadata": {},
     "output_type": "execute_result"
    }
   ],
   "source": [
    "#Add the column of  tackle assist points to the roster data\n",
    "#Get rid of extra player id column\n",
    "rosters18 = pd.merge(rosters18,tacklepts18[['tackles_xy','assist_tackle_1_player_id']],left_on='gsis_id',right_on='assist_tackle_1_player_id')\n",
    "rosters18.head()\n"
   ]
  },
  {
   "cell_type": "code",
   "execution_count": 36,
   "metadata": {
    "scrolled": true
   },
   "outputs": [
    {
     "data": {
      "text/html": [
       "<div>\n",
       "<style scoped>\n",
       "    .dataframe tbody tr th:only-of-type {\n",
       "        vertical-align: middle;\n",
       "    }\n",
       "\n",
       "    .dataframe tbody tr th {\n",
       "        vertical-align: top;\n",
       "    }\n",
       "\n",
       "    .dataframe thead th {\n",
       "        text-align: right;\n",
       "    }\n",
       "</style>\n",
       "<table border=\"1\" class=\"dataframe\">\n",
       "  <thead>\n",
       "    <tr style=\"text-align: right;\">\n",
       "      <th></th>\n",
       "      <th>season</th>\n",
       "      <th>season_type</th>\n",
       "      <th>full_player_name</th>\n",
       "      <th>abbr_player_name</th>\n",
       "      <th>team</th>\n",
       "      <th>position</th>\n",
       "      <th>gsis_id</th>\n",
       "      <th>tackle_assist_points</th>\n",
       "    </tr>\n",
       "  </thead>\n",
       "  <tbody>\n",
       "    <tr>\n",
       "      <th>0</th>\n",
       "      <td>2018</td>\n",
       "      <td>reg</td>\n",
       "      <td>Anthony Sherman</td>\n",
       "      <td>A.Sherman</td>\n",
       "      <td>KC</td>\n",
       "      <td>RB</td>\n",
       "      <td>00-0028074</td>\n",
       "      <td>1.0</td>\n",
       "    </tr>\n",
       "    <tr>\n",
       "      <th>1</th>\n",
       "      <td>2018</td>\n",
       "      <td>reg</td>\n",
       "      <td>C.J. Ham</td>\n",
       "      <td>C.Ham</td>\n",
       "      <td>MIN</td>\n",
       "      <td>FB</td>\n",
       "      <td>00-0032918</td>\n",
       "      <td>2.0</td>\n",
       "    </tr>\n",
       "    <tr>\n",
       "      <th>2</th>\n",
       "      <td>2018</td>\n",
       "      <td>reg</td>\n",
       "      <td>Charone Peake</td>\n",
       "      <td>C.Peake</td>\n",
       "      <td>NYJ</td>\n",
       "      <td>WR</td>\n",
       "      <td>00-0032959</td>\n",
       "      <td>1.0</td>\n",
       "    </tr>\n",
       "    <tr>\n",
       "      <th>3</th>\n",
       "      <td>2018</td>\n",
       "      <td>reg</td>\n",
       "      <td>Darius Jennings</td>\n",
       "      <td>D.Jennings</td>\n",
       "      <td>TEN</td>\n",
       "      <td>WR</td>\n",
       "      <td>00-0031972</td>\n",
       "      <td>1.0</td>\n",
       "    </tr>\n",
       "    <tr>\n",
       "      <th>4</th>\n",
       "      <td>2018</td>\n",
       "      <td>reg</td>\n",
       "      <td>De'Lance Turner</td>\n",
       "      <td>D.Turner</td>\n",
       "      <td>BAL</td>\n",
       "      <td>RB</td>\n",
       "      <td>00-0034201</td>\n",
       "      <td>1.0</td>\n",
       "    </tr>\n",
       "  </tbody>\n",
       "</table>\n",
       "</div>"
      ],
      "text/plain": [
       "   season season_type full_player_name abbr_player_name team position  \\\n",
       "0    2018         reg  Anthony Sherman        A.Sherman   KC       RB   \n",
       "1    2018         reg         C.J. Ham            C.Ham  MIN       FB   \n",
       "2    2018         reg    Charone Peake          C.Peake  NYJ       WR   \n",
       "3    2018         reg  Darius Jennings       D.Jennings  TEN       WR   \n",
       "4    2018         reg  De'Lance Turner         D.Turner  BAL       RB   \n",
       "\n",
       "      gsis_id  tackle_assist_points  \n",
       "0  00-0028074                   1.0  \n",
       "1  00-0032918                   2.0  \n",
       "2  00-0032959                   1.0  \n",
       "3  00-0031972                   1.0  \n",
       "4  00-0034201                   1.0  "
      ]
     },
     "execution_count": 36,
     "metadata": {},
     "output_type": "execute_result"
    }
   ],
   "source": [
    "rosters18.columns= ['season', 'season_type', 'full_player_name', 'abbr_player_name', 'team',\n",
    "       'position', 'gsis_id', 'tackle_assist_points', 'assist_tackle_1_player_id']\n",
    "rosters18.drop(['assist_tackle_1_player_id'], axis=1,inplace=True)\n",
    "rosters18.head()"
   ]
  },
  {
   "cell_type": "code",
   "execution_count": 37,
   "metadata": {},
   "outputs": [
    {
     "name": "stdout",
     "output_type": "stream",
     "text": [
      "176\n"
     ]
    }
   ],
   "source": [
    "print(rosters18.size)"
   ]
  },
  {
   "cell_type": "code",
   "execution_count": 38,
   "metadata": {
    "scrolled": true
   },
   "outputs": [
    {
     "name": "stdout",
     "output_type": "stream",
     "text": [
      "Empty DataFrame\n",
      "Columns: [season, season_type, full_player_name, abbr_player_name, team, position, gsis_id, tackle_assist_points]\n",
      "Index: []\n"
     ]
    }
   ],
   "source": [
    "rosters18.sort_values('tackle_assist_points',ascending=False)\n",
    "print(rosters18[rosters18['position']=='LB'])"
   ]
  },
  {
   "cell_type": "code",
   "execution_count": 39,
   "metadata": {},
   "outputs": [],
   "source": [
    "#gotta figure out how to merge them, something about the column names not being indexed properly\n",
    "tacklepts18 = pd.merge(tacklepts18one, tacklepts18two, left_on = 'assist_tackle_1_player_id', right_on = 'assist_tackle_2_player_id', how='inner')"
   ]
  },
  {
   "cell_type": "code",
   "execution_count": 40,
   "metadata": {
    "scrolled": true
   },
   "outputs": [
    {
     "data": {
      "text/html": [
       "<div>\n",
       "<style scoped>\n",
       "    .dataframe tbody tr th:only-of-type {\n",
       "        vertical-align: middle;\n",
       "    }\n",
       "\n",
       "    .dataframe tbody tr th {\n",
       "        vertical-align: top;\n",
       "    }\n",
       "\n",
       "    .dataframe thead th {\n",
       "        text-align: right;\n",
       "    }\n",
       "</style>\n",
       "<table border=\"1\" class=\"dataframe\">\n",
       "  <thead>\n",
       "    <tr style=\"text-align: right;\">\n",
       "      <th></th>\n",
       "      <th>assist_tackle_1_player_id</th>\n",
       "      <th>tackles_x</th>\n",
       "      <th>assist_tackle_2_player_id</th>\n",
       "      <th>tackles_y</th>\n",
       "    </tr>\n",
       "  </thead>\n",
       "  <tbody>\n",
       "    <tr>\n",
       "      <th>0</th>\n",
       "      <td>00-0021140</td>\n",
       "      <td>7</td>\n",
       "      <td>00-0021140</td>\n",
       "      <td>4</td>\n",
       "    </tr>\n",
       "    <tr>\n",
       "      <th>1</th>\n",
       "      <td>00-0022161</td>\n",
       "      <td>5</td>\n",
       "      <td>00-0022161</td>\n",
       "      <td>6</td>\n",
       "    </tr>\n",
       "    <tr>\n",
       "      <th>2</th>\n",
       "      <td>00-0022247</td>\n",
       "      <td>14</td>\n",
       "      <td>00-0022247</td>\n",
       "      <td>19</td>\n",
       "    </tr>\n",
       "    <tr>\n",
       "      <th>3</th>\n",
       "      <td>00-0023173</td>\n",
       "      <td>2</td>\n",
       "      <td>00-0023173</td>\n",
       "      <td>1</td>\n",
       "    </tr>\n",
       "    <tr>\n",
       "      <th>4</th>\n",
       "      <td>00-0023259</td>\n",
       "      <td>13</td>\n",
       "      <td>00-0023259</td>\n",
       "      <td>13</td>\n",
       "    </tr>\n",
       "  </tbody>\n",
       "</table>\n",
       "</div>"
      ],
      "text/plain": [
       "  assist_tackle_1_player_id  tackles_x assist_tackle_2_player_id  tackles_y\n",
       "0                00-0021140          7                00-0021140          4\n",
       "1                00-0022161          5                00-0022161          6\n",
       "2                00-0022247         14                00-0022247         19\n",
       "3                00-0023173          2                00-0023173          1\n",
       "4                00-0023259         13                00-0023259         13"
      ]
     },
     "execution_count": 40,
     "metadata": {},
     "output_type": "execute_result"
    }
   ],
   "source": [
    "tacklepts18.head()"
   ]
  },
  {
   "cell_type": "code",
   "execution_count": 41,
   "metadata": {},
   "outputs": [
    {
     "data": {
      "text/html": [
       "<div>\n",
       "<style scoped>\n",
       "    .dataframe tbody tr th:only-of-type {\n",
       "        vertical-align: middle;\n",
       "    }\n",
       "\n",
       "    .dataframe tbody tr th {\n",
       "        vertical-align: top;\n",
       "    }\n",
       "\n",
       "    .dataframe thead th {\n",
       "        text-align: right;\n",
       "    }\n",
       "</style>\n",
       "<table border=\"1\" class=\"dataframe\">\n",
       "  <thead>\n",
       "    <tr style=\"text-align: right;\">\n",
       "      <th></th>\n",
       "      <th>assist_tackle_1_player_id</th>\n",
       "      <th>tackles_x</th>\n",
       "      <th>assist_tackle_2_player_id</th>\n",
       "      <th>tackles_y</th>\n",
       "      <th>tackles_xy</th>\n",
       "    </tr>\n",
       "  </thead>\n",
       "  <tbody>\n",
       "    <tr>\n",
       "      <th>0</th>\n",
       "      <td>00-0021140</td>\n",
       "      <td>7</td>\n",
       "      <td>00-0021140</td>\n",
       "      <td>4</td>\n",
       "      <td>5.5</td>\n",
       "    </tr>\n",
       "    <tr>\n",
       "      <th>1</th>\n",
       "      <td>00-0022161</td>\n",
       "      <td>5</td>\n",
       "      <td>00-0022161</td>\n",
       "      <td>6</td>\n",
       "      <td>5.5</td>\n",
       "    </tr>\n",
       "    <tr>\n",
       "      <th>2</th>\n",
       "      <td>00-0022247</td>\n",
       "      <td>14</td>\n",
       "      <td>00-0022247</td>\n",
       "      <td>19</td>\n",
       "      <td>16.5</td>\n",
       "    </tr>\n",
       "    <tr>\n",
       "      <th>3</th>\n",
       "      <td>00-0023173</td>\n",
       "      <td>2</td>\n",
       "      <td>00-0023173</td>\n",
       "      <td>1</td>\n",
       "      <td>1.5</td>\n",
       "    </tr>\n",
       "    <tr>\n",
       "      <th>4</th>\n",
       "      <td>00-0023259</td>\n",
       "      <td>13</td>\n",
       "      <td>00-0023259</td>\n",
       "      <td>13</td>\n",
       "      <td>13.0</td>\n",
       "    </tr>\n",
       "  </tbody>\n",
       "</table>\n",
       "</div>"
      ],
      "text/plain": [
       "  assist_tackle_1_player_id  tackles_x assist_tackle_2_player_id  tackles_y  \\\n",
       "0                00-0021140          7                00-0021140          4   \n",
       "1                00-0022161          5                00-0022161          6   \n",
       "2                00-0022247         14                00-0022247         19   \n",
       "3                00-0023173          2                00-0023173          1   \n",
       "4                00-0023259         13                00-0023259         13   \n",
       "\n",
       "   tackles_xy  \n",
       "0         5.5  \n",
       "1         5.5  \n",
       "2        16.5  \n",
       "3         1.5  \n",
       "4        13.0  "
      ]
     },
     "execution_count": 41,
     "metadata": {},
     "output_type": "execute_result"
    }
   ],
   "source": [
    "#Add both groups of tackle assists together, multiply by 0.5 for fantasy point total\n",
    "tacklepts18['tackles_xy'] = (tacklepts18['tackles_x'] + tacklepts18['tackles_y']) * 0.5\n",
    "tacklepts18.head()"
   ]
  },
  {
   "cell_type": "code",
   "execution_count": 42,
   "metadata": {},
   "outputs": [],
   "source": [
    "rosters18 = pd.read_csv(r'nflscrapR-data\\roster_data\\regular_season\\reg_roster_2018.csv', sep = ',', low_memory = False )"
   ]
  },
  {
   "cell_type": "code",
   "execution_count": 43,
   "metadata": {},
   "outputs": [
    {
     "data": {
      "text/html": [
       "<div>\n",
       "<style scoped>\n",
       "    .dataframe tbody tr th:only-of-type {\n",
       "        vertical-align: middle;\n",
       "    }\n",
       "\n",
       "    .dataframe tbody tr th {\n",
       "        vertical-align: top;\n",
       "    }\n",
       "\n",
       "    .dataframe thead th {\n",
       "        text-align: right;\n",
       "    }\n",
       "</style>\n",
       "<table border=\"1\" class=\"dataframe\">\n",
       "  <thead>\n",
       "    <tr style=\"text-align: right;\">\n",
       "      <th></th>\n",
       "      <th>season</th>\n",
       "      <th>season_type</th>\n",
       "      <th>full_player_name</th>\n",
       "      <th>abbr_player_name</th>\n",
       "      <th>team</th>\n",
       "      <th>position</th>\n",
       "      <th>gsis_id</th>\n",
       "      <th>tackles_xy</th>\n",
       "      <th>assist_tackle_1_player_id</th>\n",
       "    </tr>\n",
       "  </thead>\n",
       "  <tbody>\n",
       "    <tr>\n",
       "      <th>0</th>\n",
       "      <td>2018</td>\n",
       "      <td>reg</td>\n",
       "      <td>Anthony Sherman</td>\n",
       "      <td>A.Sherman</td>\n",
       "      <td>KC</td>\n",
       "      <td>RB</td>\n",
       "      <td>00-0028074</td>\n",
       "      <td>1.0</td>\n",
       "      <td>00-0028074</td>\n",
       "    </tr>\n",
       "    <tr>\n",
       "      <th>1</th>\n",
       "      <td>2018</td>\n",
       "      <td>reg</td>\n",
       "      <td>C.J. Ham</td>\n",
       "      <td>C.Ham</td>\n",
       "      <td>MIN</td>\n",
       "      <td>FB</td>\n",
       "      <td>00-0032918</td>\n",
       "      <td>2.0</td>\n",
       "      <td>00-0032918</td>\n",
       "    </tr>\n",
       "    <tr>\n",
       "      <th>2</th>\n",
       "      <td>2018</td>\n",
       "      <td>reg</td>\n",
       "      <td>Charone Peake</td>\n",
       "      <td>C.Peake</td>\n",
       "      <td>NYJ</td>\n",
       "      <td>WR</td>\n",
       "      <td>00-0032959</td>\n",
       "      <td>1.0</td>\n",
       "      <td>00-0032959</td>\n",
       "    </tr>\n",
       "    <tr>\n",
       "      <th>3</th>\n",
       "      <td>2018</td>\n",
       "      <td>reg</td>\n",
       "      <td>Darius Jennings</td>\n",
       "      <td>D.Jennings</td>\n",
       "      <td>TEN</td>\n",
       "      <td>WR</td>\n",
       "      <td>00-0031972</td>\n",
       "      <td>1.0</td>\n",
       "      <td>00-0031972</td>\n",
       "    </tr>\n",
       "    <tr>\n",
       "      <th>4</th>\n",
       "      <td>2018</td>\n",
       "      <td>reg</td>\n",
       "      <td>De'Lance Turner</td>\n",
       "      <td>D.Turner</td>\n",
       "      <td>BAL</td>\n",
       "      <td>RB</td>\n",
       "      <td>00-0034201</td>\n",
       "      <td>1.0</td>\n",
       "      <td>00-0034201</td>\n",
       "    </tr>\n",
       "  </tbody>\n",
       "</table>\n",
       "</div>"
      ],
      "text/plain": [
       "   season season_type full_player_name abbr_player_name team position  \\\n",
       "0    2018         reg  Anthony Sherman        A.Sherman   KC       RB   \n",
       "1    2018         reg         C.J. Ham            C.Ham  MIN       FB   \n",
       "2    2018         reg    Charone Peake          C.Peake  NYJ       WR   \n",
       "3    2018         reg  Darius Jennings       D.Jennings  TEN       WR   \n",
       "4    2018         reg  De'Lance Turner         D.Turner  BAL       RB   \n",
       "\n",
       "      gsis_id  tackles_xy assist_tackle_1_player_id  \n",
       "0  00-0028074         1.0                00-0028074  \n",
       "1  00-0032918         2.0                00-0032918  \n",
       "2  00-0032959         1.0                00-0032959  \n",
       "3  00-0031972         1.0                00-0031972  \n",
       "4  00-0034201         1.0                00-0034201  "
      ]
     },
     "execution_count": 43,
     "metadata": {},
     "output_type": "execute_result"
    }
   ],
   "source": [
    "#Add the column of  tackle assist points to the roster data\n",
    "#Get rid of extra player id column\n",
    "rosters18 = pd.merge(rosters18,tacklepts18[['tackles_xy','assist_tackle_1_player_id']],left_on='gsis_id',right_on='assist_tackle_1_player_id')\n",
    "rosters18.head()\n"
   ]
  },
  {
   "cell_type": "code",
   "execution_count": 44,
   "metadata": {
    "scrolled": true
   },
   "outputs": [
    {
     "data": {
      "text/html": [
       "<div>\n",
       "<style scoped>\n",
       "    .dataframe tbody tr th:only-of-type {\n",
       "        vertical-align: middle;\n",
       "    }\n",
       "\n",
       "    .dataframe tbody tr th {\n",
       "        vertical-align: top;\n",
       "    }\n",
       "\n",
       "    .dataframe thead th {\n",
       "        text-align: right;\n",
       "    }\n",
       "</style>\n",
       "<table border=\"1\" class=\"dataframe\">\n",
       "  <thead>\n",
       "    <tr style=\"text-align: right;\">\n",
       "      <th></th>\n",
       "      <th>season</th>\n",
       "      <th>season_type</th>\n",
       "      <th>full_player_name</th>\n",
       "      <th>abbr_player_name</th>\n",
       "      <th>team</th>\n",
       "      <th>position</th>\n",
       "      <th>gsis_id</th>\n",
       "      <th>tackle_assist_points</th>\n",
       "    </tr>\n",
       "  </thead>\n",
       "  <tbody>\n",
       "    <tr>\n",
       "      <th>0</th>\n",
       "      <td>2018</td>\n",
       "      <td>reg</td>\n",
       "      <td>Anthony Sherman</td>\n",
       "      <td>A.Sherman</td>\n",
       "      <td>KC</td>\n",
       "      <td>RB</td>\n",
       "      <td>00-0028074</td>\n",
       "      <td>1.0</td>\n",
       "    </tr>\n",
       "    <tr>\n",
       "      <th>1</th>\n",
       "      <td>2018</td>\n",
       "      <td>reg</td>\n",
       "      <td>C.J. Ham</td>\n",
       "      <td>C.Ham</td>\n",
       "      <td>MIN</td>\n",
       "      <td>FB</td>\n",
       "      <td>00-0032918</td>\n",
       "      <td>2.0</td>\n",
       "    </tr>\n",
       "    <tr>\n",
       "      <th>2</th>\n",
       "      <td>2018</td>\n",
       "      <td>reg</td>\n",
       "      <td>Charone Peake</td>\n",
       "      <td>C.Peake</td>\n",
       "      <td>NYJ</td>\n",
       "      <td>WR</td>\n",
       "      <td>00-0032959</td>\n",
       "      <td>1.0</td>\n",
       "    </tr>\n",
       "    <tr>\n",
       "      <th>3</th>\n",
       "      <td>2018</td>\n",
       "      <td>reg</td>\n",
       "      <td>Darius Jennings</td>\n",
       "      <td>D.Jennings</td>\n",
       "      <td>TEN</td>\n",
       "      <td>WR</td>\n",
       "      <td>00-0031972</td>\n",
       "      <td>1.0</td>\n",
       "    </tr>\n",
       "    <tr>\n",
       "      <th>4</th>\n",
       "      <td>2018</td>\n",
       "      <td>reg</td>\n",
       "      <td>De'Lance Turner</td>\n",
       "      <td>D.Turner</td>\n",
       "      <td>BAL</td>\n",
       "      <td>RB</td>\n",
       "      <td>00-0034201</td>\n",
       "      <td>1.0</td>\n",
       "    </tr>\n",
       "  </tbody>\n",
       "</table>\n",
       "</div>"
      ],
      "text/plain": [
       "   season season_type full_player_name abbr_player_name team position  \\\n",
       "0    2018         reg  Anthony Sherman        A.Sherman   KC       RB   \n",
       "1    2018         reg         C.J. Ham            C.Ham  MIN       FB   \n",
       "2    2018         reg    Charone Peake          C.Peake  NYJ       WR   \n",
       "3    2018         reg  Darius Jennings       D.Jennings  TEN       WR   \n",
       "4    2018         reg  De'Lance Turner         D.Turner  BAL       RB   \n",
       "\n",
       "      gsis_id  tackle_assist_points  \n",
       "0  00-0028074                   1.0  \n",
       "1  00-0032918                   2.0  \n",
       "2  00-0032959                   1.0  \n",
       "3  00-0031972                   1.0  \n",
       "4  00-0034201                   1.0  "
      ]
     },
     "execution_count": 44,
     "metadata": {},
     "output_type": "execute_result"
    }
   ],
   "source": [
    "rosters18.columns= ['season', 'season_type', 'full_player_name', 'abbr_player_name', 'team',\n",
    "       'position', 'gsis_id', 'tackle_assist_points', 'assist_tackle_1_player_id']\n",
    "rosters18.drop(['assist_tackle_1_player_id'], axis=1,inplace=True)\n",
    "rosters18.head()"
   ]
  },
  {
   "cell_type": "code",
   "execution_count": 45,
   "metadata": {},
   "outputs": [
    {
     "name": "stdout",
     "output_type": "stream",
     "text": [
      "176\n"
     ]
    }
   ],
   "source": [
    "print(rosters18.size)"
   ]
  },
  {
   "cell_type": "code",
   "execution_count": 46,
   "metadata": {
    "scrolled": true
   },
   "outputs": [
    {
     "name": "stdout",
     "output_type": "stream",
     "text": [
      "Empty DataFrame\n",
      "Columns: [season, season_type, full_player_name, abbr_player_name, team, position, gsis_id, tackle_assist_points]\n",
      "Index: []\n"
     ]
    }
   ],
   "source": [
    "rosters18.sort_values('tackle_assist_points',ascending=False)\n",
    "print(rosters18[rosters18['position']=='LB'])"
   ]
  },
  {
   "cell_type": "code",
   "execution_count": null,
   "metadata": {},
   "outputs": [],
   "source": []
  },
  {
   "cell_type": "code",
   "execution_count": null,
   "metadata": {},
   "outputs": [],
   "source": []
  },
  {
   "cell_type": "code",
   "execution_count": null,
   "metadata": {},
   "outputs": [],
   "source": []
  },
  {
   "cell_type": "code",
   "execution_count": null,
   "metadata": {},
   "outputs": [],
   "source": []
  }
 ],
 "metadata": {
  "kernelspec": {
   "display_name": "Python 3",
   "language": "python",
   "name": "python3"
  },
  "language_info": {
   "codemirror_mode": {
    "name": "ipython",
    "version": 3
   },
   "file_extension": ".py",
   "mimetype": "text/x-python",
   "name": "python",
   "nbconvert_exporter": "python",
   "pygments_lexer": "ipython3",
   "version": "3.7.3"
  }
 },
 "nbformat": 4,
 "nbformat_minor": 2
}
